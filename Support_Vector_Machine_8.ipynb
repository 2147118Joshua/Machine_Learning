{
  "nbformat": 4,
  "nbformat_minor": 0,
  "metadata": {
    "colab": {
      "provenance": [],
      "authorship_tag": "ABX9TyP5RnvjFD0nDYl31Acd61Fo",
      "include_colab_link": true
    },
    "kernelspec": {
      "name": "python3",
      "display_name": "Python 3"
    },
    "language_info": {
      "name": "python"
    }
  },
  "cells": [
    {
      "cell_type": "markdown",
      "metadata": {
        "id": "view-in-github",
        "colab_type": "text"
      },
      "source": [
        "<a href=\"https://colab.research.google.com/github/2147118Joshua/Machine_Learning/blob/main/Support_Vector_Machine_8.ipynb\" target=\"_parent\"><img src=\"https://colab.research.google.com/assets/colab-badge.svg\" alt=\"Open In Colab\"/></a>"
      ]
    },
    {
      "cell_type": "code",
      "source": [
        "import pandas as pd\n",
        "import numpy as np\n",
        "import matplotlib.pyplot as plt\n",
        "import seaborn as sns\n",
        "from sklearn.model_selection import GridSearchCV\n",
        "from sklearn.metrics import accuracy_score, confusion_matrix\n",
        "from sklearn.model_selection import cross_val_score"
      ],
      "metadata": {
        "id": "r5D4i7ov7Y0Z"
      },
      "execution_count": 2,
      "outputs": []
    },
    {
      "cell_type": "code",
      "source": [
        "df = pd.read_csv(\"/content/car_details.csv\")\n",
        "df.head()\n",
        "df.shape\n",
        "# df.drop(columns=[&#39;Id&#39;], inplace=True)"
      ],
      "metadata": {
        "colab": {
          "base_uri": "https://localhost:8080/"
        },
        "id": "0SK727Lj7cC0",
        "outputId": "9da2554c-1fff-4b99-d06b-524c2b110362"
      },
      "execution_count": 3,
      "outputs": [
        {
          "output_type": "execute_result",
          "data": {
            "text/plain": [
              "(4340, 8)"
            ]
          },
          "metadata": {},
          "execution_count": 3
        }
      ]
    },
    {
      "cell_type": "code",
      "source": [
        "#Let's drop unimportant columns\n",
        "df.drop('name', inplace=True, axis=1)"
      ],
      "metadata": {
        "id": "cM3Ognhl9QY5"
      },
      "execution_count": 4,
      "outputs": []
    },
    {
      "cell_type": "code",
      "source": [
        "owners=df['owner'].unique()\n",
        "transmission = df['transmission'].unique()\n",
        "seller_type = df['seller_type'].unique()\n",
        "fuel = df['fuel'].unique()\n",
        "print(owners,transmission,seller_type)"
      ],
      "metadata": {
        "colab": {
          "base_uri": "https://localhost:8080/"
        },
        "id": "ywQdU4S-9RXp",
        "outputId": "e36eaa1e-f8bf-4280-c05a-a701daf9356b"
      },
      "execution_count": 5,
      "outputs": [
        {
          "output_type": "stream",
          "name": "stdout",
          "text": [
            "['First Owner' 'Second Owner' 'Fourth & Above Owner' 'Third Owner'\n",
            " 'Test Drive Car'] ['Manual' 'Automatic'] ['Individual' 'Dealer' 'Trustmark Dealer']\n"
          ]
        }
      ]
    },
    {
      "cell_type": "code",
      "source": [
        "t = {owners[0]: 0, owners[1]: 1, owners[2]: 2, owners[3]: 3, owners[4]: 4}\n",
        "df['owner'] = df['owner'].map(t)\n",
        "\n",
        "t = {transmission[0] : 0, transmission[1] : 1}\n",
        "df['transmission'] = df['transmission'].map(t)\n",
        "\n",
        "t = {seller_type[0] : 0, seller_type[1] : 1, seller_type[2] : 2}\n",
        "df['seller_type'] = df['seller_type'].map(t)\n",
        "\n",
        "t = {fuel[0] : 0, fuel[1] : 1, fuel[2] : 2, fuel[3] : 3, fuel[4] : 4}\n",
        "df['fuel'] = df['fuel'].map(t)"
      ],
      "metadata": {
        "id": "2EBEDoMK9XZ1"
      },
      "execution_count": 6,
      "outputs": []
    },
    {
      "cell_type": "code",
      "source": [
        "features = ['transmission', 'owner']\n",
        "X = df[features]\n",
        "y = df['seller_type']"
      ],
      "metadata": {
        "id": "Xafvd-B99atg"
      },
      "execution_count": 10,
      "outputs": []
    },
    {
      "cell_type": "code",
      "source": [
        "#Splitting dataset to train and test\n",
        "from sklearn.model_selection import train_test_split\n",
        "X_train,X_test,y_train,y_test = train_test_split(X,y,test_size=0.30,random_state=45,stratify=y)"
      ],
      "metadata": {
        "id": "8lYGodeU9f6k"
      },
      "execution_count": 11,
      "outputs": []
    },
    {
      "cell_type": "code",
      "source": [
        "#Create the SVM model\n",
        "\n",
        "from sklearn.svm import SVC\n",
        "from sklearn.metrics import classification_report, confusion_matrix\n",
        "from sklearn.metrics import accuracy_score"
      ],
      "metadata": {
        "id": "oYw6fOR09gqE"
      },
      "execution_count": 12,
      "outputs": []
    },
    {
      "cell_type": "code",
      "source": [
        "# SVC with linear kernel\n",
        "\n",
        "C = 1.0 # SVM regularization parameter\n",
        "\n",
        "# LinearSVC (linear kernel)\n",
        "svc =SVC(kernel= 'linear', C=C)\n",
        "# classifier = SVC(kernel='linear', random_state=0)  \n",
        "\n",
        "svc.fit(X_train, y_train)"
      ],
      "metadata": {
        "colab": {
          "base_uri": "https://localhost:8080/"
        },
        "id": "0zCLcfqT9m89",
        "outputId": "88eb442d-7510-4cc5-ead9-1292c0e2bd83"
      },
      "execution_count": 13,
      "outputs": [
        {
          "output_type": "execute_result",
          "data": {
            "text/plain": [
              "SVC(kernel='linear')"
            ]
          },
          "metadata": {},
          "execution_count": 13
        }
      ]
    },
    {
      "cell_type": "code",
      "source": [
        "# Evaluate the trainong model (Accuracy of training model)\n",
        "\n",
        "Trainaccuracy = cross_val_score(svc,X_train,y_train,cv=5)\n",
        "svc.fit(X_train,y_train)\n",
        "print(\"Train model accuracy:\", np.mean(Trainaccuracy))"
      ],
      "metadata": {
        "colab": {
          "base_uri": "https://localhost:8080/"
        },
        "id": "gaaR7Vd59rIp",
        "outputId": "7a91b189-6629-44d7-ab89-db496f928c63"
      },
      "execution_count": 14,
      "outputs": [
        {
          "output_type": "stream",
          "name": "stdout",
          "text": [
            "Train model accuracy: 0.7442398985519812\n"
          ]
        }
      ]
    },
    {
      "cell_type": "code",
      "source": [
        "# Evaluate the Testing accuracy\n",
        "y_pred1 = svc.predict(X_test)\n",
        "print ('Accuracy of linear svm:', accuracy_score(y_test, y_pred1))\n",
        "print(confusion_matrix(y_test, y_pred1))\n",
        "# SVC with RBF kernel\n",
        "# Gamma indicates the ‘spread’ of the kernel that is decision region.\n",
        "#Gamma is low, the decision region is very broad.\n",
        "#When gamma is high, the ‘decision boundary is high, which creates islands of decision-boundaries around data points"
      ],
      "metadata": {
        "colab": {
          "base_uri": "https://localhost:8080/"
        },
        "id": "7l1Qckp19upN",
        "outputId": "090033cb-7a2e-4500-bf7b-cc0dec995384"
      },
      "execution_count": 15,
      "outputs": [
        {
          "output_type": "stream",
          "name": "stdout",
          "text": [
            "Accuracy of linear svm: 0.7473118279569892\n",
            "[[973   0   0]\n",
            " [298   0   0]\n",
            " [ 31   0   0]]\n"
          ]
        }
      ]
    },
    {
      "cell_type": "code",
      "source": [
        "rbf_svc =SVC(kernel='rbf', gamma=0.8, C=C)\n",
        "rbf_svc.fit(X_train, y_train)\n",
        "y_pred2 = rbf_svc.predict(X_test)\n",
        "print ('Accuracy of rbf kernel:', accuracy_score(y_test, y_pred2))\n",
        "print(confusion_matrix(y_test, y_pred2))"
      ],
      "metadata": {
        "colab": {
          "base_uri": "https://localhost:8080/"
        },
        "id": "HRU3WueT91Qd",
        "outputId": "8f912d6c-56ef-48d9-bed2-9ee72c163df3"
      },
      "execution_count": 16,
      "outputs": [
        {
          "output_type": "stream",
          "name": "stdout",
          "text": [
            "Accuracy of rbf kernel: 0.7703533026113671\n",
            "[[934  39   0]\n",
            " [229  69   0]\n",
            " [ 28   3   0]]\n"
          ]
        }
      ]
    },
    {
      "cell_type": "code",
      "source": [
        "# SVC with polynomial (degree 3) kernel\n",
        "poly_svc =SVC(kernel='poly', degree=5, C=C)\n",
        "poly_svc.fit(X, y)\n",
        "y_pred3 = poly_svc.predict(X_test)\n",
        "print ('Accuracy of polynomial kernel:', accuracy_score(y_test, y_pred3))\n",
        "print(confusion_matrix(y_test, y_pred3))\n",
        "\n"
      ],
      "metadata": {
        "id": "9wfPjaSR94g0"
      },
      "execution_count": null,
      "outputs": []
    },
    {
      "cell_type": "code",
      "source": [
        "grid = {\n",
        "\n",
        "'C':[0.01,0.1,1,10],\n",
        "'kernel' : [\"linear\",\"poly\",\"rbf\"],\n",
        "'degree': [1,3,5,7],\n",
        "'gamma' : [0.01,1]\n",
        "}\n",
        "svm =SVC()\n",
        "svm_cv = GridSearchCV(svm, grid)\n",
        "svm_cv.fit(X_train,y_train)\n",
        "\n",
        "print(\"Best Parameters:\",svm_cv.best_params_)\n",
        "\n",
        "#print(&quot;Train Score:&quot;,svm_cv.best_score_)\n",
        "print(\"Test Score:\",svm_cv.score(X_test,y_test))"
      ],
      "metadata": {
        "id": "N5XzO3Z3DIHo"
      },
      "execution_count": null,
      "outputs": []
    }
  ]
}